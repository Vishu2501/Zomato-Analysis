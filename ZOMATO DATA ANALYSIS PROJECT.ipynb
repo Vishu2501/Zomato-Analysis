{
 "cells": [
  {
   "cell_type": "code",
   "execution_count": 8,
   "id": "81b1adc6",
   "metadata": {},
   "outputs": [],
   "source": [
    "import numpy as np\n",
    "import matplotlib.pyplot as plt\n",
    "import pandas as pd\n",
    "import matplotlib.pyplot\n",
    "import seaborn as sns"
   ]
  },
  {
   "cell_type": "code",
   "execution_count": 9,
   "id": "a7033531",
   "metadata": {},
   "outputs": [],
   "source": [
    "import warnings\n",
    "warnings.filterwarnings('ignore')"
   ]
  },
  {
   "cell_type": "code",
   "execution_count": 10,
   "id": "2b183bc5",
   "metadata": {},
   "outputs": [],
   "source": [
    "zomato=pd.read_csv(r\"C:\\Users\\Vishwatej\\Desktop\\python\\Projects\\zomato_outlet_final (11).csv\")"
   ]
  },
  {
   "cell_type": "code",
   "execution_count": 11,
   "id": "13f83427",
   "metadata": {},
   "outputs": [
    {
     "data": {
      "text/html": [
       "<div>\n",
       "<style scoped>\n",
       "    .dataframe tbody tr th:only-of-type {\n",
       "        vertical-align: middle;\n",
       "    }\n",
       "\n",
       "    .dataframe tbody tr th {\n",
       "        vertical-align: top;\n",
       "    }\n",
       "\n",
       "    .dataframe thead th {\n",
       "        text-align: right;\n",
       "    }\n",
       "</style>\n",
       "<table border=\"1\" class=\"dataframe\">\n",
       "  <thead>\n",
       "    <tr style=\"text-align: right;\">\n",
       "      <th></th>\n",
       "      <th>link</th>\n",
       "      <th>rest_name</th>\n",
       "      <th>rest_type</th>\n",
       "      <th>loc</th>\n",
       "      <th>dine_rating</th>\n",
       "      <th>dine_reviews</th>\n",
       "      <th>delivery_rating</th>\n",
       "      <th>delivery_reviews</th>\n",
       "      <th>cuisine</th>\n",
       "      <th>Unnamed: 9</th>\n",
       "      <th>Cost (RS)</th>\n",
       "      <th>cost</th>\n",
       "      <th>liked</th>\n",
       "    </tr>\n",
       "  </thead>\n",
       "  <tbody>\n",
       "    <tr>\n",
       "      <th>0</th>\n",
       "      <td>https://www.zomato.com/pune/mix@36-the-westin-...</td>\n",
       "      <td>Mix@36 - The Westin\\r\\r\\n                     ...</td>\n",
       "      <td>Lounge</td>\n",
       "      <td>The Westin, Mundhwa</td>\n",
       "      <td>4.2</td>\n",
       "      <td>(707 Reviews)</td>\n",
       "      <td>NaN</td>\n",
       "      <td>NaN</td>\n",
       "      <td>North Indian,Continental,Asian,Finger Food,</td>\n",
       "      <td>NaN</td>\n",
       "      <td>4300</td>\n",
       "      <td>Rs. 4300</td>\n",
       "      <td>Cocktails, Chaat, Beer</td>\n",
       "    </tr>\n",
       "    <tr>\n",
       "      <th>1</th>\n",
       "      <td>https://www.zomato.com/pune/kangan-the-westin-...</td>\n",
       "      <td>Kangan - The Westin\\r\\r\\n                     ...</td>\n",
       "      <td>Fine Dining</td>\n",
       "      <td>The Westin, Mundhwa</td>\n",
       "      <td>4.1</td>\n",
       "      <td>(344 Reviews)</td>\n",
       "      <td>NaN</td>\n",
       "      <td>NaN</td>\n",
       "      <td>North Indian,Mughlai,</td>\n",
       "      <td>NaN</td>\n",
       "      <td>3500</td>\n",
       "      <td>Rs. 3500</td>\n",
       "      <td>Biryani, Veg Platter, Dal Makhani, Butter Chic...</td>\n",
       "    </tr>\n",
       "    <tr>\n",
       "      <th>2</th>\n",
       "      <td>https://www.zomato.com/pune/coriander-kitchen-...</td>\n",
       "      <td>Coriander Kitchen - Conrad Pune\\r\\r\\n         ...</td>\n",
       "      <td>Fine Dining</td>\n",
       "      <td>Conrad Pune, Bund Garden Road</td>\n",
       "      <td>4.5</td>\n",
       "      <td>(541 Reviews)</td>\n",
       "      <td>NaN</td>\n",
       "      <td>NaN</td>\n",
       "      <td>Mediterranean,Asian,North Indian,</td>\n",
       "      <td>NaN</td>\n",
       "      <td>3200</td>\n",
       "      <td>Rs. 3200</td>\n",
       "      <td>Pasta, Panipuri, Waffles, Pizza, Salad, Chaat,...</td>\n",
       "    </tr>\n",
       "    <tr>\n",
       "      <th>3</th>\n",
       "      <td>https://www.zomato.com/pune/the-market-the-wes...</td>\n",
       "      <td>The Market - The Westin\\r\\r\\n                 ...</td>\n",
       "      <td>Fine Dining</td>\n",
       "      <td>The Westin, Mundhwa</td>\n",
       "      <td>4.0</td>\n",
       "      <td>(55 Reviews)</td>\n",
       "      <td>NaN</td>\n",
       "      <td>NaN</td>\n",
       "      <td>Asian,European,North Indian,</td>\n",
       "      <td>NaN</td>\n",
       "      <td>3200</td>\n",
       "      <td>Rs. 3200</td>\n",
       "      <td>Vanilla Ice Cream, Chaat, Sushi</td>\n",
       "    </tr>\n",
       "    <tr>\n",
       "      <th>4</th>\n",
       "      <td>https://www.zomato.com/pune/vandaag-vivanta-pu...</td>\n",
       "      <td>Vandaag - Vivanta Pune\\r\\r\\n                  ...</td>\n",
       "      <td>Pub,Casual Dining</td>\n",
       "      <td>Vivanta Pune, Hinjewadi</td>\n",
       "      <td>3.9</td>\n",
       "      <td>(113 Reviews)</td>\n",
       "      <td>NaN</td>\n",
       "      <td>NaN</td>\n",
       "      <td>Finger Food,Continental,</td>\n",
       "      <td>NaN</td>\n",
       "      <td>3100</td>\n",
       "      <td>Rs. 3100</td>\n",
       "      <td>Cocktails, Beer, Peri Peri Chicken, Fish, Veg ...</td>\n",
       "    </tr>\n",
       "    <tr>\n",
       "      <th>...</th>\n",
       "      <td>...</td>\n",
       "      <td>...</td>\n",
       "      <td>...</td>\n",
       "      <td>...</td>\n",
       "      <td>...</td>\n",
       "      <td>...</td>\n",
       "      <td>...</td>\n",
       "      <td>...</td>\n",
       "      <td>...</td>\n",
       "      <td>...</td>\n",
       "      <td>...</td>\n",
       "      <td>...</td>\n",
       "      <td>...</td>\n",
       "    </tr>\n",
       "    <tr>\n",
       "      <th>5428</th>\n",
       "      <td>https://www.zomato.com/pune/murli-pure-veg-1-s...</td>\n",
       "      <td>Murli Pure Veg\\r\\n                            ...</td>\n",
       "      <td>Casual Dining</td>\n",
       "      <td>Sinhgad Road</td>\n",
       "      <td>3.1</td>\n",
       "      <td>-22</td>\n",
       "      <td>3.5</td>\n",
       "      <td>-253</td>\n",
       "      <td>South Indian,Chinese,North Indian,</td>\n",
       "      <td>NaN</td>\n",
       "      <td>550</td>\n",
       "      <td>Rs. 550</td>\n",
       "      <td>NaN</td>\n",
       "    </tr>\n",
       "    <tr>\n",
       "      <th>5429</th>\n",
       "      <td>https://www.zomato.com/pune/the-irani-cafe-res...</td>\n",
       "      <td>The Irani Cafe Restaurant\\r\\n                 ...</td>\n",
       "      <td>Casual Dining</td>\n",
       "      <td>Viman Nagar</td>\n",
       "      <td>2.9</td>\n",
       "      <td>(80 Reviews)</td>\n",
       "      <td>NaN</td>\n",
       "      <td>NaN</td>\n",
       "      <td>Mughlai,Iranian,</td>\n",
       "      <td>NaN</td>\n",
       "      <td>800</td>\n",
       "      <td>Rs. 800</td>\n",
       "      <td>Naan, Mutton Keema, Dum Biryani, Irani Chai, B...</td>\n",
       "    </tr>\n",
       "    <tr>\n",
       "      <th>5430</th>\n",
       "      <td>https://www.zomato.com/pune/hotel-shilpa-gavra...</td>\n",
       "      <td>Hotel Shilpa Gavran\\r\\n                       ...</td>\n",
       "      <td>Casual Dining</td>\n",
       "      <td>Pimpri</td>\n",
       "      <td>3.8</td>\n",
       "      <td>(90 Reviews)</td>\n",
       "      <td>NaN</td>\n",
       "      <td>NaN</td>\n",
       "      <td>Chinese,Fast Food,North Indian,</td>\n",
       "      <td>NaN</td>\n",
       "      <td>500</td>\n",
       "      <td>Rs. 500</td>\n",
       "      <td>Mutton Thali, Chicken Sukha</td>\n",
       "    </tr>\n",
       "    <tr>\n",
       "      <th>5431</th>\n",
       "      <td>https://www.zomato.com/pune/mh-12-pav-bhaji-ju...</td>\n",
       "      <td>MH 12 Pav Bhaji &amp; Juice Center\\r\\n            ...</td>\n",
       "      <td>Quick Bites</td>\n",
       "      <td>Sadashiv Peth</td>\n",
       "      <td>3.1</td>\n",
       "      <td>-24</td>\n",
       "      <td>3.1</td>\n",
       "      <td>-439</td>\n",
       "      <td>Beverages,Chinese,Street Food,Fast Food,</td>\n",
       "      <td>NaN</td>\n",
       "      <td>250</td>\n",
       "      <td>Rs. 250</td>\n",
       "      <td>NaN</td>\n",
       "    </tr>\n",
       "    <tr>\n",
       "      <th>5432</th>\n",
       "      <td>https://www.zomato.com/pune/liyo-china-bt-kawa...</td>\n",
       "      <td>Liyo China\\r\\n                                ...</td>\n",
       "      <td>Casual Dining</td>\n",
       "      <td>B.T. Kawade Road</td>\n",
       "      <td>3.6</td>\n",
       "      <td>-97</td>\n",
       "      <td>3.8</td>\n",
       "      <td>-365</td>\n",
       "      <td>Thai,Chinese,</td>\n",
       "      <td>NaN</td>\n",
       "      <td>500</td>\n",
       "      <td>Rs. 500</td>\n",
       "      <td>Noodle</td>\n",
       "    </tr>\n",
       "  </tbody>\n",
       "</table>\n",
       "<p>5433 rows × 13 columns</p>\n",
       "</div>"
      ],
      "text/plain": [
       "                                                   link  \\\n",
       "0     https://www.zomato.com/pune/mix@36-the-westin-...   \n",
       "1     https://www.zomato.com/pune/kangan-the-westin-...   \n",
       "2     https://www.zomato.com/pune/coriander-kitchen-...   \n",
       "3     https://www.zomato.com/pune/the-market-the-wes...   \n",
       "4     https://www.zomato.com/pune/vandaag-vivanta-pu...   \n",
       "...                                                 ...   \n",
       "5428  https://www.zomato.com/pune/murli-pure-veg-1-s...   \n",
       "5429  https://www.zomato.com/pune/the-irani-cafe-res...   \n",
       "5430  https://www.zomato.com/pune/hotel-shilpa-gavra...   \n",
       "5431  https://www.zomato.com/pune/mh-12-pav-bhaji-ju...   \n",
       "5432  https://www.zomato.com/pune/liyo-china-bt-kawa...   \n",
       "\n",
       "                                              rest_name          rest_type  \\\n",
       "0     Mix@36 - The Westin\\r\\r\\n                     ...             Lounge   \n",
       "1     Kangan - The Westin\\r\\r\\n                     ...        Fine Dining   \n",
       "2     Coriander Kitchen - Conrad Pune\\r\\r\\n         ...        Fine Dining   \n",
       "3     The Market - The Westin\\r\\r\\n                 ...        Fine Dining   \n",
       "4     Vandaag - Vivanta Pune\\r\\r\\n                  ...  Pub,Casual Dining   \n",
       "...                                                 ...                ...   \n",
       "5428  Murli Pure Veg\\r\\n                            ...      Casual Dining   \n",
       "5429  The Irani Cafe Restaurant\\r\\n                 ...      Casual Dining   \n",
       "5430  Hotel Shilpa Gavran\\r\\n                       ...      Casual Dining   \n",
       "5431  MH 12 Pav Bhaji & Juice Center\\r\\n            ...        Quick Bites   \n",
       "5432  Liyo China\\r\\n                                ...      Casual Dining   \n",
       "\n",
       "                                loc  dine_rating   dine_reviews  \\\n",
       "0               The Westin, Mundhwa          4.2  (707 Reviews)   \n",
       "1               The Westin, Mundhwa          4.1  (344 Reviews)   \n",
       "2     Conrad Pune, Bund Garden Road          4.5  (541 Reviews)   \n",
       "3               The Westin, Mundhwa          4.0   (55 Reviews)   \n",
       "4           Vivanta Pune, Hinjewadi          3.9  (113 Reviews)   \n",
       "...                             ...          ...            ...   \n",
       "5428                   Sinhgad Road          3.1            -22   \n",
       "5429                    Viman Nagar          2.9   (80 Reviews)   \n",
       "5430                         Pimpri          3.8   (90 Reviews)   \n",
       "5431                  Sadashiv Peth          3.1            -24   \n",
       "5432               B.T. Kawade Road          3.6            -97   \n",
       "\n",
       "      delivery_rating delivery_reviews  \\\n",
       "0                 NaN              NaN   \n",
       "1                 NaN              NaN   \n",
       "2                 NaN              NaN   \n",
       "3                 NaN              NaN   \n",
       "4                 NaN              NaN   \n",
       "...               ...              ...   \n",
       "5428              3.5             -253   \n",
       "5429              NaN              NaN   \n",
       "5430              NaN              NaN   \n",
       "5431              3.1             -439   \n",
       "5432              3.8             -365   \n",
       "\n",
       "                                          cuisine  Unnamed: 9  Cost (RS)  \\\n",
       "0     North Indian,Continental,Asian,Finger Food,         NaN       4300   \n",
       "1                           North Indian,Mughlai,         NaN       3500   \n",
       "2               Mediterranean,Asian,North Indian,         NaN       3200   \n",
       "3                    Asian,European,North Indian,         NaN       3200   \n",
       "4                        Finger Food,Continental,         NaN       3100   \n",
       "...                                           ...         ...        ...   \n",
       "5428           South Indian,Chinese,North Indian,         NaN        550   \n",
       "5429                             Mughlai,Iranian,         NaN        800   \n",
       "5430              Chinese,Fast Food,North Indian,         NaN        500   \n",
       "5431     Beverages,Chinese,Street Food,Fast Food,         NaN        250   \n",
       "5432                                Thai,Chinese,         NaN        500   \n",
       "\n",
       "          cost                                              liked  \n",
       "0     Rs. 4300                             Cocktails, Chaat, Beer  \n",
       "1     Rs. 3500  Biryani, Veg Platter, Dal Makhani, Butter Chic...  \n",
       "2     Rs. 3200  Pasta, Panipuri, Waffles, Pizza, Salad, Chaat,...  \n",
       "3     Rs. 3200                    Vanilla Ice Cream, Chaat, Sushi  \n",
       "4     Rs. 3100  Cocktails, Beer, Peri Peri Chicken, Fish, Veg ...  \n",
       "...        ...                                                ...  \n",
       "5428   Rs. 550                                                NaN  \n",
       "5429   Rs. 800  Naan, Mutton Keema, Dum Biryani, Irani Chai, B...  \n",
       "5430   Rs. 500                        Mutton Thali, Chicken Sukha  \n",
       "5431   Rs. 250                                                NaN  \n",
       "5432   Rs. 500                                             Noodle  \n",
       "\n",
       "[5433 rows x 13 columns]"
      ]
     },
     "execution_count": 11,
     "metadata": {},
     "output_type": "execute_result"
    }
   ],
   "source": [
    "zomato"
   ]
  },
  {
   "cell_type": "code",
   "execution_count": 12,
   "id": "a27babd6",
   "metadata": {},
   "outputs": [
    {
     "name": "stdout",
     "output_type": "stream",
     "text": [
      "<class 'pandas.core.frame.DataFrame'>\n",
      "RangeIndex: 5433 entries, 0 to 5432\n",
      "Data columns (total 13 columns):\n",
      " #   Column            Non-Null Count  Dtype  \n",
      "---  ------            --------------  -----  \n",
      " 0   link              5433 non-null   object \n",
      " 1   rest_name         5433 non-null   object \n",
      " 2   rest_type         4336 non-null   object \n",
      " 3   loc               5433 non-null   object \n",
      " 4   dine_rating       5433 non-null   float64\n",
      " 5   dine_reviews      4829 non-null   object \n",
      " 6   delivery_rating   2539 non-null   float64\n",
      " 7   delivery_reviews  2539 non-null   object \n",
      " 8   cuisine           5433 non-null   object \n",
      " 9   Unnamed: 9        0 non-null      float64\n",
      " 10  Cost (RS)         5433 non-null   int64  \n",
      " 11  cost              5433 non-null   object \n",
      " 12  liked             2603 non-null   object \n",
      "dtypes: float64(3), int64(1), object(9)\n",
      "memory usage: 551.9+ KB\n"
     ]
    }
   ],
   "source": [
    "zomato.info()"
   ]
  },
  {
   "cell_type": "code",
   "execution_count": 13,
   "id": "213d491f",
   "metadata": {},
   "outputs": [
    {
     "name": "stdout",
     "output_type": "stream",
     "text": [
      "2927\n"
     ]
    }
   ],
   "source": [
    "print(len(zomato['rest_name'].unique()))"
   ]
  },
  {
   "cell_type": "code",
   "execution_count": 14,
   "id": "b3aecb0d",
   "metadata": {},
   "outputs": [
    {
     "data": {
      "text/plain": [
       "(5433, 13)"
      ]
     },
     "execution_count": 14,
     "metadata": {},
     "output_type": "execute_result"
    }
   ],
   "source": [
    "zomato.shape"
   ]
  },
  {
   "cell_type": "code",
   "execution_count": 15,
   "id": "7bc062d8",
   "metadata": {},
   "outputs": [
    {
     "data": {
      "text/plain": [
       "Index(['link', 'rest_name', 'rest_type', 'loc', 'dine_rating', 'dine_reviews',\n",
       "       'delivery_rating', 'delivery_reviews', 'cuisine', 'Unnamed: 9',\n",
       "       'Cost (RS)', 'cost', 'liked'],\n",
       "      dtype='object')"
      ]
     },
     "execution_count": 15,
     "metadata": {},
     "output_type": "execute_result"
    }
   ],
   "source": [
    "zomato.columns"
   ]
  },
  {
   "cell_type": "code",
   "execution_count": 16,
   "id": "5725500b",
   "metadata": {},
   "outputs": [
    {
     "data": {
      "text/plain": [
       "Index(['rest_name', 'rest_type', 'loc', 'dine_rating', 'dine_reviews',\n",
       "       'delivery_rating', 'delivery_reviews', 'cuisine', 'Unnamed: 9',\n",
       "       'Cost (RS)', 'cost', 'liked'],\n",
       "      dtype='object')"
      ]
     },
     "execution_count": 16,
     "metadata": {},
     "output_type": "execute_result"
    }
   ],
   "source": [
    "df=zomato.iloc[:,1:]\n",
    "df.columns"
   ]
  },
  {
   "cell_type": "code",
   "execution_count": 17,
   "id": "7c4551f5",
   "metadata": {},
   "outputs": [
    {
     "data": {
      "text/html": [
       "<div>\n",
       "<style scoped>\n",
       "    .dataframe tbody tr th:only-of-type {\n",
       "        vertical-align: middle;\n",
       "    }\n",
       "\n",
       "    .dataframe tbody tr th {\n",
       "        vertical-align: top;\n",
       "    }\n",
       "\n",
       "    .dataframe thead th {\n",
       "        text-align: right;\n",
       "    }\n",
       "</style>\n",
       "<table border=\"1\" class=\"dataframe\">\n",
       "  <thead>\n",
       "    <tr style=\"text-align: right;\">\n",
       "      <th></th>\n",
       "      <th>rest_name</th>\n",
       "      <th>rest_type</th>\n",
       "      <th>loc</th>\n",
       "      <th>dine_rating</th>\n",
       "      <th>dine_reviews</th>\n",
       "      <th>delivery_rating</th>\n",
       "      <th>delivery_reviews</th>\n",
       "      <th>cuisine</th>\n",
       "      <th>Cost (RS)</th>\n",
       "      <th>cost</th>\n",
       "      <th>liked</th>\n",
       "    </tr>\n",
       "  </thead>\n",
       "  <tbody>\n",
       "    <tr>\n",
       "      <th>0</th>\n",
       "      <td>Mix@36 - The Westin\\r\\r\\n                     ...</td>\n",
       "      <td>Lounge</td>\n",
       "      <td>The Westin, Mundhwa</td>\n",
       "      <td>4.2</td>\n",
       "      <td>(707 Reviews)</td>\n",
       "      <td>NaN</td>\n",
       "      <td>NaN</td>\n",
       "      <td>North Indian,Continental,Asian,Finger Food,</td>\n",
       "      <td>4300</td>\n",
       "      <td>Rs. 4300</td>\n",
       "      <td>Cocktails, Chaat, Beer</td>\n",
       "    </tr>\n",
       "    <tr>\n",
       "      <th>1</th>\n",
       "      <td>Kangan - The Westin\\r\\r\\n                     ...</td>\n",
       "      <td>Fine Dining</td>\n",
       "      <td>The Westin, Mundhwa</td>\n",
       "      <td>4.1</td>\n",
       "      <td>(344 Reviews)</td>\n",
       "      <td>NaN</td>\n",
       "      <td>NaN</td>\n",
       "      <td>North Indian,Mughlai,</td>\n",
       "      <td>3500</td>\n",
       "      <td>Rs. 3500</td>\n",
       "      <td>Biryani, Veg Platter, Dal Makhani, Butter Chic...</td>\n",
       "    </tr>\n",
       "    <tr>\n",
       "      <th>2</th>\n",
       "      <td>Coriander Kitchen - Conrad Pune\\r\\r\\n         ...</td>\n",
       "      <td>Fine Dining</td>\n",
       "      <td>Conrad Pune, Bund Garden Road</td>\n",
       "      <td>4.5</td>\n",
       "      <td>(541 Reviews)</td>\n",
       "      <td>NaN</td>\n",
       "      <td>NaN</td>\n",
       "      <td>Mediterranean,Asian,North Indian,</td>\n",
       "      <td>3200</td>\n",
       "      <td>Rs. 3200</td>\n",
       "      <td>Pasta, Panipuri, Waffles, Pizza, Salad, Chaat,...</td>\n",
       "    </tr>\n",
       "    <tr>\n",
       "      <th>3</th>\n",
       "      <td>The Market - The Westin\\r\\r\\n                 ...</td>\n",
       "      <td>Fine Dining</td>\n",
       "      <td>The Westin, Mundhwa</td>\n",
       "      <td>4.0</td>\n",
       "      <td>(55 Reviews)</td>\n",
       "      <td>NaN</td>\n",
       "      <td>NaN</td>\n",
       "      <td>Asian,European,North Indian,</td>\n",
       "      <td>3200</td>\n",
       "      <td>Rs. 3200</td>\n",
       "      <td>Vanilla Ice Cream, Chaat, Sushi</td>\n",
       "    </tr>\n",
       "    <tr>\n",
       "      <th>4</th>\n",
       "      <td>Vandaag - Vivanta Pune\\r\\r\\n                  ...</td>\n",
       "      <td>Pub,Casual Dining</td>\n",
       "      <td>Vivanta Pune, Hinjewadi</td>\n",
       "      <td>3.9</td>\n",
       "      <td>(113 Reviews)</td>\n",
       "      <td>NaN</td>\n",
       "      <td>NaN</td>\n",
       "      <td>Finger Food,Continental,</td>\n",
       "      <td>3100</td>\n",
       "      <td>Rs. 3100</td>\n",
       "      <td>Cocktails, Beer, Peri Peri Chicken, Fish, Veg ...</td>\n",
       "    </tr>\n",
       "    <tr>\n",
       "      <th>...</th>\n",
       "      <td>...</td>\n",
       "      <td>...</td>\n",
       "      <td>...</td>\n",
       "      <td>...</td>\n",
       "      <td>...</td>\n",
       "      <td>...</td>\n",
       "      <td>...</td>\n",
       "      <td>...</td>\n",
       "      <td>...</td>\n",
       "      <td>...</td>\n",
       "      <td>...</td>\n",
       "    </tr>\n",
       "    <tr>\n",
       "      <th>5428</th>\n",
       "      <td>Murli Pure Veg\\r\\n                            ...</td>\n",
       "      <td>Casual Dining</td>\n",
       "      <td>Sinhgad Road</td>\n",
       "      <td>3.1</td>\n",
       "      <td>-22</td>\n",
       "      <td>3.5</td>\n",
       "      <td>-253</td>\n",
       "      <td>South Indian,Chinese,North Indian,</td>\n",
       "      <td>550</td>\n",
       "      <td>Rs. 550</td>\n",
       "      <td>NaN</td>\n",
       "    </tr>\n",
       "    <tr>\n",
       "      <th>5429</th>\n",
       "      <td>The Irani Cafe Restaurant\\r\\n                 ...</td>\n",
       "      <td>Casual Dining</td>\n",
       "      <td>Viman Nagar</td>\n",
       "      <td>2.9</td>\n",
       "      <td>(80 Reviews)</td>\n",
       "      <td>NaN</td>\n",
       "      <td>NaN</td>\n",
       "      <td>Mughlai,Iranian,</td>\n",
       "      <td>800</td>\n",
       "      <td>Rs. 800</td>\n",
       "      <td>Naan, Mutton Keema, Dum Biryani, Irani Chai, B...</td>\n",
       "    </tr>\n",
       "    <tr>\n",
       "      <th>5430</th>\n",
       "      <td>Hotel Shilpa Gavran\\r\\n                       ...</td>\n",
       "      <td>Casual Dining</td>\n",
       "      <td>Pimpri</td>\n",
       "      <td>3.8</td>\n",
       "      <td>(90 Reviews)</td>\n",
       "      <td>NaN</td>\n",
       "      <td>NaN</td>\n",
       "      <td>Chinese,Fast Food,North Indian,</td>\n",
       "      <td>500</td>\n",
       "      <td>Rs. 500</td>\n",
       "      <td>Mutton Thali, Chicken Sukha</td>\n",
       "    </tr>\n",
       "    <tr>\n",
       "      <th>5431</th>\n",
       "      <td>MH 12 Pav Bhaji &amp; Juice Center\\r\\n            ...</td>\n",
       "      <td>Quick Bites</td>\n",
       "      <td>Sadashiv Peth</td>\n",
       "      <td>3.1</td>\n",
       "      <td>-24</td>\n",
       "      <td>3.1</td>\n",
       "      <td>-439</td>\n",
       "      <td>Beverages,Chinese,Street Food,Fast Food,</td>\n",
       "      <td>250</td>\n",
       "      <td>Rs. 250</td>\n",
       "      <td>NaN</td>\n",
       "    </tr>\n",
       "    <tr>\n",
       "      <th>5432</th>\n",
       "      <td>Liyo China\\r\\n                                ...</td>\n",
       "      <td>Casual Dining</td>\n",
       "      <td>B.T. Kawade Road</td>\n",
       "      <td>3.6</td>\n",
       "      <td>-97</td>\n",
       "      <td>3.8</td>\n",
       "      <td>-365</td>\n",
       "      <td>Thai,Chinese,</td>\n",
       "      <td>500</td>\n",
       "      <td>Rs. 500</td>\n",
       "      <td>Noodle</td>\n",
       "    </tr>\n",
       "  </tbody>\n",
       "</table>\n",
       "<p>5433 rows × 11 columns</p>\n",
       "</div>"
      ],
      "text/plain": [
       "                                              rest_name          rest_type  \\\n",
       "0     Mix@36 - The Westin\\r\\r\\n                     ...             Lounge   \n",
       "1     Kangan - The Westin\\r\\r\\n                     ...        Fine Dining   \n",
       "2     Coriander Kitchen - Conrad Pune\\r\\r\\n         ...        Fine Dining   \n",
       "3     The Market - The Westin\\r\\r\\n                 ...        Fine Dining   \n",
       "4     Vandaag - Vivanta Pune\\r\\r\\n                  ...  Pub,Casual Dining   \n",
       "...                                                 ...                ...   \n",
       "5428  Murli Pure Veg\\r\\n                            ...      Casual Dining   \n",
       "5429  The Irani Cafe Restaurant\\r\\n                 ...      Casual Dining   \n",
       "5430  Hotel Shilpa Gavran\\r\\n                       ...      Casual Dining   \n",
       "5431  MH 12 Pav Bhaji & Juice Center\\r\\n            ...        Quick Bites   \n",
       "5432  Liyo China\\r\\n                                ...      Casual Dining   \n",
       "\n",
       "                                loc  dine_rating   dine_reviews  \\\n",
       "0               The Westin, Mundhwa          4.2  (707 Reviews)   \n",
       "1               The Westin, Mundhwa          4.1  (344 Reviews)   \n",
       "2     Conrad Pune, Bund Garden Road          4.5  (541 Reviews)   \n",
       "3               The Westin, Mundhwa          4.0   (55 Reviews)   \n",
       "4           Vivanta Pune, Hinjewadi          3.9  (113 Reviews)   \n",
       "...                             ...          ...            ...   \n",
       "5428                   Sinhgad Road          3.1            -22   \n",
       "5429                    Viman Nagar          2.9   (80 Reviews)   \n",
       "5430                         Pimpri          3.8   (90 Reviews)   \n",
       "5431                  Sadashiv Peth          3.1            -24   \n",
       "5432               B.T. Kawade Road          3.6            -97   \n",
       "\n",
       "      delivery_rating delivery_reviews  \\\n",
       "0                 NaN              NaN   \n",
       "1                 NaN              NaN   \n",
       "2                 NaN              NaN   \n",
       "3                 NaN              NaN   \n",
       "4                 NaN              NaN   \n",
       "...               ...              ...   \n",
       "5428              3.5             -253   \n",
       "5429              NaN              NaN   \n",
       "5430              NaN              NaN   \n",
       "5431              3.1             -439   \n",
       "5432              3.8             -365   \n",
       "\n",
       "                                          cuisine  Cost (RS)      cost  \\\n",
       "0     North Indian,Continental,Asian,Finger Food,       4300  Rs. 4300   \n",
       "1                           North Indian,Mughlai,       3500  Rs. 3500   \n",
       "2               Mediterranean,Asian,North Indian,       3200  Rs. 3200   \n",
       "3                    Asian,European,North Indian,       3200  Rs. 3200   \n",
       "4                        Finger Food,Continental,       3100  Rs. 3100   \n",
       "...                                           ...        ...       ...   \n",
       "5428           South Indian,Chinese,North Indian,        550   Rs. 550   \n",
       "5429                             Mughlai,Iranian,        800   Rs. 800   \n",
       "5430              Chinese,Fast Food,North Indian,        500   Rs. 500   \n",
       "5431     Beverages,Chinese,Street Food,Fast Food,        250   Rs. 250   \n",
       "5432                                Thai,Chinese,        500   Rs. 500   \n",
       "\n",
       "                                                  liked  \n",
       "0                                Cocktails, Chaat, Beer  \n",
       "1     Biryani, Veg Platter, Dal Makhani, Butter Chic...  \n",
       "2     Pasta, Panipuri, Waffles, Pizza, Salad, Chaat,...  \n",
       "3                       Vanilla Ice Cream, Chaat, Sushi  \n",
       "4     Cocktails, Beer, Peri Peri Chicken, Fish, Veg ...  \n",
       "...                                                 ...  \n",
       "5428                                                NaN  \n",
       "5429  Naan, Mutton Keema, Dum Biryani, Irani Chai, B...  \n",
       "5430                        Mutton Thali, Chicken Sukha  \n",
       "5431                                                NaN  \n",
       "5432                                             Noodle  \n",
       "\n",
       "[5433 rows x 11 columns]"
      ]
     },
     "execution_count": 17,
     "metadata": {},
     "output_type": "execute_result"
    }
   ],
   "source": [
    "df.drop('Unnamed: 9',axis=1)"
   ]
  },
  {
   "cell_type": "code",
   "execution_count": 18,
   "id": "5eee4355",
   "metadata": {},
   "outputs": [
    {
     "data": {
      "text/plain": [
       "0                  Lounge\n",
       "1             Fine Dining\n",
       "2             Fine Dining\n",
       "3             Fine Dining\n",
       "4       Pub,Casual Dining\n",
       "              ...        \n",
       "5428        Casual Dining\n",
       "5429        Casual Dining\n",
       "5430        Casual Dining\n",
       "5431          Quick Bites\n",
       "5432        Casual Dining\n",
       "Name: rest_type, Length: 5433, dtype: object"
      ]
     },
     "execution_count": 18,
     "metadata": {},
     "output_type": "execute_result"
    }
   ],
   "source": [
    "df['rest_type']"
   ]
  },
  {
   "cell_type": "code",
   "execution_count": 19,
   "id": "8fd94ada",
   "metadata": {},
   "outputs": [
    {
     "data": {
      "text/plain": [
       "Quick Bites                   1546\n",
       "Casual Dining                  939\n",
       "Bakery                         347\n",
       "Dessert Parlor                 327\n",
       "Casual Dining,Bar              244\n",
       "                              ... \n",
       "Dhaba,Bar                        1\n",
       "Kiosk,Quick Bites                1\n",
       "Microbrewery,Casual Dining       1\n",
       "Quick Bites,Confectionery        1\n",
       "Paan Shop                        1\n",
       "Name: rest_type, Length: 66, dtype: int64"
      ]
     },
     "execution_count": 19,
     "metadata": {},
     "output_type": "execute_result"
    }
   ],
   "source": [
    "#how many type of resta are there\n",
    "\n",
    "df['rest_type'].value_counts()"
   ]
  },
  {
   "cell_type": "code",
   "execution_count": 20,
   "id": "58f2c1ff",
   "metadata": {},
   "outputs": [],
   "source": [
    "rest_type_values=df['rest_type'].value_counts()[:10]"
   ]
  },
  {
   "cell_type": "code",
   "execution_count": 21,
   "id": "55042566",
   "metadata": {},
   "outputs": [
    {
     "data": {
      "text/plain": [
       "<AxesSubplot:xlabel='rest_type'>"
      ]
     },
     "execution_count": 21,
     "metadata": {},
     "output_type": "execute_result"
    },
    {
     "data": {
      "image/png": "[encoded data removed]",
      "text/plain": [
       "<Figure size 432x288 with 1 Axes>"
      ]
     },
     "metadata": {
      "needs_background": "light"
     },
     "output_type": "display_data"
    }
   ],
   "source": [
    "sns.barplot(rest_type_values,rest_type_values.index)"
   ]
  },
  {
   "cell_type": "code",
   "execution_count": null,
   "id": "c8980255",
   "metadata": {},
   "outputs": [],
   "source": []
  },
  {
   "cell_type": "code",
   "execution_count": 22,
   "id": "58f7e214",
   "metadata": {},
   "outputs": [
    {
     "data": {
      "text/plain": [
       "0       North Indian,Continental,Asian,Finger Food,\n",
       "1                             North Indian,Mughlai,\n",
       "2                 Mediterranean,Asian,North Indian,\n",
       "3                      Asian,European,North Indian,\n",
       "4                          Finger Food,Continental,\n",
       "                           ...                     \n",
       "5428             South Indian,Chinese,North Indian,\n",
       "5429                               Mughlai,Iranian,\n",
       "5430                Chinese,Fast Food,North Indian,\n",
       "5431       Beverages,Chinese,Street Food,Fast Food,\n",
       "5432                                  Thai,Chinese,\n",
       "Name: cuisine, Length: 5433, dtype: object"
      ]
     },
     "execution_count": 22,
     "metadata": {},
     "output_type": "execute_result"
    }
   ],
   "source": [
    "df['cuisine']"
   ]
  },
  {
   "cell_type": "code",
   "execution_count": 23,
   "id": "3d697891",
   "metadata": {},
   "outputs": [],
   "source": [
    "cuisine=df['cuisine'].value_counts()[:10]"
   ]
  },
  {
   "cell_type": "code",
   "execution_count": 24,
   "id": "ace4e21c",
   "metadata": {},
   "outputs": [
    {
     "data": {
      "text/plain": [
       "<AxesSubplot:xlabel='cuisine'>"
      ]
     },
     "execution_count": 24,
     "metadata": {},
     "output_type": "execute_result"
    },
    {
     "data": {
      "image/png": "[encoded data removed]",
      "text/plain": [
       "<Figure size 432x288 with 1 Axes>"
      ]
     },
     "metadata": {
      "needs_background": "light"
     },
     "output_type": "display_data"
    }
   ],
   "source": [
    "sns.barplot(cuisine,cuisine.index)"
   ]
  },
  {
   "cell_type": "code",
   "execution_count": 25,
   "id": "a3c5b1d7",
   "metadata": {},
   "outputs": [
    {
     "data": {
      "text/plain": [
       "Kothrud            273\n",
       "Viman Nagar        241\n",
       "Wakad              235\n",
       "Baner              234\n",
       "Hinjawadi          225\n",
       "Hadapsar           196\n",
       "Kharadi            194\n",
       "Sinhgad Road       147\n",
       "Pimple Saudagar    141\n",
       "Koregaon Park      130\n",
       "Name: loc, dtype: int64"
      ]
     },
     "execution_count": 25,
     "metadata": {},
     "output_type": "execute_result"
    }
   ],
   "source": [
    "total_locations=df['loc'].value_counts()[:10]\n",
    "total_locations"
   ]
  },
  {
   "cell_type": "code",
   "execution_count": 26,
   "id": "27410438",
   "metadata": {},
   "outputs": [
    {
     "data": {
      "text/plain": [
       "250"
      ]
     },
     "execution_count": 26,
     "metadata": {},
     "output_type": "execute_result"
    }
   ],
   "source": [
    "df.duplicated().sum()"
   ]
  },
  {
   "cell_type": "code",
   "execution_count": 27,
   "id": "2f2beb36",
   "metadata": {},
   "outputs": [],
   "source": [
    "df=df.drop_duplicates()"
   ]
  },
  {
   "cell_type": "code",
   "execution_count": 28,
   "id": "13c4eda6",
   "metadata": {},
   "outputs": [
    {
     "data": {
      "text/plain": [
       "0"
      ]
     },
     "execution_count": 28,
     "metadata": {},
     "output_type": "execute_result"
    }
   ],
   "source": [
    "df.duplicated().sum()"
   ]
  },
  {
   "cell_type": "code",
   "execution_count": 29,
   "id": "19dce42b",
   "metadata": {},
   "outputs": [
    {
     "data": {
      "text/plain": [
       "The Pavillion, Senapati Bapat Road       14\n",
       "Fatima Nagar                             13\n",
       "Westend Mall, Aundh                      12\n",
       "Shaniwar Peth                            12\n",
       "Swargate                                 11\n",
       "Pune-Solapur Road                        11\n",
       "Shivane                                  11\n",
       "Chakan                                   11\n",
       "Bund Garden Road                         11\n",
       "Pune University                          10\n",
       "Dehu Road                                10\n",
       "Talegaon                                 10\n",
       "Shivapur                                  8\n",
       "Conrad Pune, Bund Garden Road             8\n",
       "City Hub @ WTC, Kharadi                   8\n",
       "B.T. Kawade Road                          8\n",
       "Kumar Pacific Mall, Swargate              7\n",
       "Mariplex Mall, Kalyani Nagar              7\n",
       "Bhugaon                                   7\n",
       "The Westin, Mundhwa                       7\n",
       "JW Marriott Pune, Senapati Bapat Road     7\n",
       "Rajiv Gandhi IT Park, Hinjewadi           6\n",
       "Ritz Carlton, Yerwada                     6\n",
       "The Hyatt Regency, Nagar Road             6\n",
       "Blue Diamond, Koregaon Park               6\n",
       "Sus                                       6\n",
       "Mulshi Road                               6\n",
       "Aditi Mall, Baner Road                    5\n",
       "Premier Plaza, Chinchwad                  5\n",
       "Sayaji Hotels, Wakad                      5\n",
       "Name: loc, dtype: int64"
      ]
     },
     "execution_count": 29,
     "metadata": {},
     "output_type": "execute_result"
    }
   ],
   "source": [
    "df['loc'].value_counts()[70:100]"
   ]
  },
  {
   "cell_type": "code",
   "execution_count": 30,
   "id": "9a550519",
   "metadata": {},
   "outputs": [
    {
     "data": {
      "text/plain": [
       "<AxesSubplot:xlabel='loc'>"
      ]
     },
     "execution_count": 30,
     "metadata": {},
     "output_type": "execute_result"
    },
    {
     "data": {
      "image/png": "[encoded data removed]",
      "text/plain": [
       "<Figure size 432x288 with 1 Axes>"
      ]
     },
     "metadata": {
      "needs_background": "light"
     },
     "output_type": "display_data"
    }
   ],
   "source": [
    "sns.barplot(total_locations,total_locations.index)"
   ]
  },
  {
   "cell_type": "code",
   "execution_count": 31,
   "id": "4d448e90",
   "metadata": {},
   "outputs": [
    {
     "data": {
      "text/plain": [
       "0       4.2\n",
       "1       4.1\n",
       "2       4.5\n",
       "3       4.0\n",
       "4       3.9\n",
       "       ... \n",
       "5428    3.1\n",
       "5429    2.9\n",
       "5430    3.8\n",
       "5431    3.1\n",
       "5432    3.6\n",
       "Name: dine_rating, Length: 5183, dtype: float64"
      ]
     },
     "execution_count": 31,
     "metadata": {},
     "output_type": "execute_result"
    }
   ],
   "source": [
    "df['dine_rating']"
   ]
  },
  {
   "cell_type": "code",
   "execution_count": 32,
   "id": "5d9d8af8",
   "metadata": {},
   "outputs": [
    {
     "data": {
      "text/plain": [
       "(array([ 566.,    0.,    0.,    0.,   62.,  384.,  958., 1820., 1227.,\n",
       "         166.]),\n",
       " array([0.  , 0.49, 0.98, 1.47, 1.96, 2.45, 2.94, 3.43, 3.92, 4.41, 4.9 ]),\n",
       " <BarContainer object of 10 artists>)"
      ]
     },
     "execution_count": 32,
     "metadata": {},
     "output_type": "execute_result"
    },
    {
     "data": {
      "image/png": "[encoded data removed]",
      "text/plain": [
       "<Figure size 432x288 with 1 Axes>"
      ]
     },
     "metadata": {
      "needs_background": "light"
     },
     "output_type": "display_data"
    }
   ],
   "source": [
    "plt.hist(df['dine_rating'])"
   ]
  },
  {
   "cell_type": "code",
   "execution_count": 33,
   "id": "28cb12eb",
   "metadata": {},
   "outputs": [
    {
     "data": {
      "text/plain": [
       "2774"
      ]
     },
     "execution_count": 33,
     "metadata": {},
     "output_type": "execute_result"
    }
   ],
   "source": [
    "df['delivery_rating'].isnull().sum()"
   ]
  },
  {
   "cell_type": "code",
   "execution_count": 34,
   "id": "df963a4d",
   "metadata": {},
   "outputs": [
    {
     "data": {
      "text/plain": [
       "0       NaN\n",
       "1       NaN\n",
       "2       NaN\n",
       "3       NaN\n",
       "4       NaN\n",
       "       ... \n",
       "5428    3.5\n",
       "5429    NaN\n",
       "5430    NaN\n",
       "5431    3.1\n",
       "5432    3.8\n",
       "Name: delivery_rating, Length: 5183, dtype: float64"
      ]
     },
     "execution_count": 34,
     "metadata": {},
     "output_type": "execute_result"
    }
   ],
   "source": [
    "df['delivery_rating']"
   ]
  },
  {
   "cell_type": "code",
   "execution_count": 35,
   "id": "1f50ce04",
   "metadata": {},
   "outputs": [
    {
     "data": {
      "text/plain": [
       "(array([  2.,   0.,  19.,  74., 146., 377., 938., 641., 190.,  22.]),\n",
       " array([2.  , 2.28, 2.56, 2.84, 3.12, 3.4 , 3.68, 3.96, 4.24, 4.52, 4.8 ]),\n",
       " <BarContainer object of 10 artists>)"
      ]
     },
     "execution_count": 35,
     "metadata": {},
     "output_type": "execute_result"
    },
    {
     "data": {
      "image/png": "[encoded data removed]",
      "text/plain": [
       "<Figure size 432x288 with 1 Axes>"
      ]
     },
     "metadata": {
      "needs_background": "light"
     },
     "output_type": "display_data"
    }
   ],
   "source": [
    "plt.hist(df['delivery_rating'])"
   ]
  },
  {
   "cell_type": "code",
   "execution_count": 36,
   "id": "b379a5b1",
   "metadata": {},
   "outputs": [
    {
     "data": {
      "text/plain": [
       "<AxesSubplot:xlabel='delivery_rating'>"
      ]
     },
     "execution_count": 36,
     "metadata": {},
     "output_type": "execute_result"
    },
    {
     "data": {
      "image/png": "[encoded data removed]",
      "text/plain": [
       "<Figure size 432x288 with 1 Axes>"
      ]
     },
     "metadata": {
      "needs_background": "light"
     },
     "output_type": "display_data"
    }
   ],
   "source": [
    "sns.boxplot(df[\"delivery_rating\"])"
   ]
  },
  {
   "cell_type": "code",
   "execution_count": 37,
   "id": "7775ca1e",
   "metadata": {},
   "outputs": [
    {
     "data": {
      "text/plain": [
       "<AxesSubplot:xlabel='delivery_rating'>"
      ]
     },
     "execution_count": 37,
     "metadata": {},
     "output_type": "execute_result"
    },
    {
     "data": {
      "image/png": "[encoded data removed]",
      "text/plain": [
       "<Figure size 432x288 with 1 Axes>"
      ]
     },
     "metadata": {
      "needs_background": "light"
     },
     "output_type": "display_data"
    }
   ],
   "source": [
    "sns.violinplot(df[\"delivery_rating\"])"
   ]
  },
  {
   "cell_type": "code",
   "execution_count": 38,
   "id": "fceb3e4a",
   "metadata": {},
   "outputs": [
    {
     "data": {
      "text/plain": [
       "0       North Indian,Continental,Asian,Finger Food,\n",
       "1                             North Indian,Mughlai,\n",
       "2                 Mediterranean,Asian,North Indian,\n",
       "3                      Asian,European,North Indian,\n",
       "4                          Finger Food,Continental,\n",
       "                           ...                     \n",
       "5428             South Indian,Chinese,North Indian,\n",
       "5429                               Mughlai,Iranian,\n",
       "5430                Chinese,Fast Food,North Indian,\n",
       "5431       Beverages,Chinese,Street Food,Fast Food,\n",
       "5432                                  Thai,Chinese,\n",
       "Name: cuisine, Length: 5183, dtype: object"
      ]
     },
     "execution_count": 38,
     "metadata": {},
     "output_type": "execute_result"
    }
   ],
   "source": [
    "df['cuisine']"
   ]
  },
  {
   "cell_type": "code",
   "execution_count": 39,
   "id": "4bf5b18d",
   "metadata": {},
   "outputs": [],
   "source": [
    "def divide_by(x):\n",
    "    a=[]\n",
    "    for i in x:\n",
    "        a.append((i/5211)*100)\n",
    "    return a\n"
   ]
  },
  {
   "cell_type": "code",
   "execution_count": 40,
   "id": "5bf3a4e1",
   "metadata": {},
   "outputs": [
    {
     "name": "stdout",
     "output_type": "stream",
     "text": [
      "[5.238917674150835, 4.624832085971983, 4.509691038188447, 4.490500863557859, 4.317789291882556, 3.7612742275954707, 3.722893878334293, 2.8209556706966032, 2.7058146229130684, 2.494722701976588]\n"
     ]
    }
   ],
   "source": [
    "percentage_distribution=divide_by(total_locations)\n",
    "print(percentage_distribution)"
   ]
  },
  {
   "cell_type": "code",
   "execution_count": 41,
   "id": "270a0f28",
   "metadata": {},
   "outputs": [
    {
     "ename": "NameError",
     "evalue": "name 'places' is not defined",
     "output_type": "error",
     "traceback": [
      "\u001b[1;31m---------------------------------------------------------------------------\u001b[0m",
      "\u001b[1;31mNameError\u001b[0m                                 Traceback (most recent call last)",
      "\u001b[1;32mC:\\Users\\VISHWA~1\\AppData\\Local\\Temp/ipykernel_15704/3362344450.py\u001b[0m in \u001b[0;36m<module>\u001b[1;34m\u001b[0m\n\u001b[1;32m----> 1\u001b[1;33m \u001b[0mlabel\u001b[0m\u001b[1;33m=\u001b[0m\u001b[0mplaces\u001b[0m\u001b[1;33m\u001b[0m\u001b[1;33m\u001b[0m\u001b[0m\n\u001b[0m\u001b[0;32m      2\u001b[0m \u001b[0msizes\u001b[0m\u001b[1;33m=\u001b[0m\u001b[0mpercentage_distribution\u001b[0m\u001b[1;33m\u001b[0m\u001b[1;33m\u001b[0m\u001b[0m\n\u001b[0;32m      3\u001b[0m \u001b[1;33m\u001b[0m\u001b[0m\n\u001b[0;32m      4\u001b[0m \u001b[0mfig1\u001b[0m\u001b[1;33m,\u001b[0m\u001b[0max1\u001b[0m\u001b[1;33m=\u001b[0m\u001b[0mplt\u001b[0m\u001b[1;33m.\u001b[0m\u001b[0msubplots\u001b[0m\u001b[1;33m(\u001b[0m\u001b[1;33m)\u001b[0m\u001b[1;33m\u001b[0m\u001b[1;33m\u001b[0m\u001b[0m\n\u001b[0;32m      5\u001b[0m \u001b[0max1\u001b[0m\u001b[1;33m.\u001b[0m\u001b[0mpie\u001b[0m\u001b[1;33m(\u001b[0m\u001b[0msizes\u001b[0m\u001b[1;33m,\u001b[0m\u001b[0mlabels\u001b[0m\u001b[1;33m=\u001b[0m\u001b[0mlabels\u001b[0m\u001b[1;33m,\u001b[0m\u001b[0mautopct\u001b[0m\u001b[1;33m=\u001b[0m\u001b[1;34m'% 2f%%'\u001b[0m\u001b[1;33m,\u001b[0m\u001b[0mshadow\u001b[0m\u001b[1;33m=\u001b[0m\u001b[0mtrue\u001b[0m\u001b[1;33m)\u001b[0m\u001b[1;33m\u001b[0m\u001b[1;33m\u001b[0m\u001b[0m\n",
      "\u001b[1;31mNameError\u001b[0m: name 'places' is not defined"
     ]
    }
   ],
   "source": [
    "\n",
    "label=places\n",
    "sizes=percentage_distribution\n",
    "\n",
    "fig1,ax1=plt.subplots()\n",
    "ax1.pie(sizes,labels=labels,autopct='% 2f%%',shadow=true)\n",
    "ax1.axis('equal')"
   ]
  },
  {
   "cell_type": "code",
   "execution_count": null,
   "id": "d6227c63",
   "metadata": {},
   "outputs": [],
   "source": [
    "df['cuisine']"
   ]
  },
  {
   "cell_type": "code",
   "execution_count": null,
   "id": "d7d4a51e",
   "metadata": {},
   "outputs": [],
   "source": [
    "#Number Of Cuisine In Pune\n",
    "\n",
    "cuisine=[]\n",
    "for i in df['cuisine']:\n",
    "    for j in i.split(','):\n",
    "        cuisine.append(j)\n",
    "print(cuisine)\n",
    "print(len(cuisine))"
   ]
  },
  {
   "cell_type": "code",
   "execution_count": 44,
   "id": "eceab83e",
   "metadata": {},
   "outputs": [
    {
     "ename": "SyntaxError",
     "evalue": "invalid syntax (Temp/ipykernel_15704/856054835.py, line 9)",
     "output_type": "error",
     "traceback": [
      "\u001b[1;36m  File \u001b[1;32m\"C:\\Users\\VISHWA~1\\AppData\\Local\\Temp/ipykernel_15704/856054835.py\"\u001b[1;36m, line \u001b[1;32m9\u001b[0m\n\u001b[1;33m    if j= \"biryani\":\u001b[0m\n\u001b[1;37m        ^\u001b[0m\n\u001b[1;31mSyntaxError\u001b[0m\u001b[1;31m:\u001b[0m invalid syntax\n"
     ]
    }
   ],
   "source": [
    "\n",
    "\n",
    "a=[]\n",
    "d=[]\n",
    "for i in df['liked']:\n",
    "    a=i.split(',')\n",
    "    b.append(a)\n",
    "    \n",
    "count=0\n",
    "for j in i:\n",
    "    if j= \"biryani\":\n",
    "        count=count+1\n",
    "print(count)"
   ]
  },
  {
   "cell_type": "code",
   "execution_count": 42,
   "id": "68d89b2d",
   "metadata": {},
   "outputs": [
    {
     "data": {
      "text/plain": [
       "0                                  Cocktails, Chaat, Beer\n",
       "1       Biryani, Veg Platter, Dal Makhani, Butter Chic...\n",
       "2       Pasta, Panipuri, Waffles, Pizza, Salad, Chaat,...\n",
       "3                         Vanilla Ice Cream, Chaat, Sushi\n",
       "4       Cocktails, Beer, Peri Peri Chicken, Fish, Veg ...\n",
       "                              ...                        \n",
       "5428                                                  NaN\n",
       "5429    Naan, Mutton Keema, Dum Biryani, Irani Chai, B...\n",
       "5430                          Mutton Thali, Chicken Sukha\n",
       "5431                                                  NaN\n",
       "5432                                               Noodle\n",
       "Name: liked, Length: 5183, dtype: object"
      ]
     },
     "execution_count": 42,
     "metadata": {},
     "output_type": "execute_result"
    }
   ],
   "source": [
    "df['liked']"
   ]
  },
  {
   "cell_type": "code",
   "execution_count": 38,
   "id": "47ef235c",
   "metadata": {},
   "outputs": [
    {
     "data": {
      "text/plain": [
       "<AxesSubplot:xlabel='dine_rating'>"
      ]
     },
     "execution_count": 38,
     "metadata": {},
     "output_type": "execute_result"
    },
    {
     "data": {
      "image/png": "[encoded data removed]",
      "text/plain": [
       "<Figure size 432x288 with 1 Axes>"
      ]
     },
     "metadata": {
      "needs_background": "light"
     },
     "output_type": "display_data"
    }
   ],
   "source": [
    "sns.boxplot(df['dine_rating'])"
   ]
  },
  {
   "cell_type": "code",
   "execution_count": 39,
   "id": "e8a30293",
   "metadata": {},
   "outputs": [
    {
     "data": {
      "text/plain": [
       "<AxesSubplot:xlabel='dine_rating'>"
      ]
     },
     "execution_count": 39,
     "metadata": {},
     "output_type": "execute_result"
    },
    {
     "data": {
      "image/png": "[encoded data removed]",
      "text/plain": [
       "<Figure size 432x288 with 1 Axes>"
      ]
     },
     "metadata": {
      "needs_background": "light"
     },
     "output_type": "display_data"
    }
   ],
   "source": [
    "sns.violinplot(df['dine_rating'])"
   ]
  },
  {
   "cell_type": "code",
   "execution_count": 52,
   "id": "0442d243",
   "metadata": {},
   "outputs": [
    {
     "data": {
      "text/plain": [
       "0       Rs. 4300\n",
       "1       Rs. 3500\n",
       "2       Rs. 3200\n",
       "3       Rs. 3200\n",
       "4       Rs. 3100\n",
       "          ...   \n",
       "5428     Rs. 550\n",
       "5429     Rs. 800\n",
       "5430     Rs. 500\n",
       "5431     Rs. 250\n",
       "5432     Rs. 500\n",
       "Name: cost, Length: 5183, dtype: object"
      ]
     },
     "execution_count": 52,
     "metadata": {},
     "output_type": "execute_result"
    }
   ],
   "source": [
    "df['cost']"
   ]
  },
  {
   "cell_type": "code",
   "execution_count": 45,
   "id": "a0d75790",
   "metadata": {},
   "outputs": [
    {
     "data": {
      "text/plain": [
       "(array([  19.,   27.,  227.,  437.,  371., 2011.,  502.,  711.,  519.,\n",
       "         359.]),\n",
       " array([ 0. ,  4.9,  9.8, 14.7, 19.6, 24.5, 29.4, 34.3, 39.2, 44.1, 49. ]),\n",
       " <BarContainer object of 10 artists>)"
      ]
     },
     "execution_count": 45,
     "metadata": {},
     "output_type": "execute_result"
    },
    {
     "data": {
      "image/png": "[encoded data removed]",
      "text/plain": [
       "<Figure size 432x288 with 1 Axes>"
      ]
     },
     "metadata": {
      "needs_background": "light"
     },
     "output_type": "display_data"
    }
   ],
   "source": [
    "plt.hist(df['cost'])"
   ]
  },
  {
   "cell_type": "code",
   "execution_count": 48,
   "id": "742cea87",
   "metadata": {},
   "outputs": [],
   "source": [
    "cost_values=df['rest_type'].value_counts()[:10]"
   ]
  },
  {
   "cell_type": "code",
   "execution_count": 50,
   "id": "67dcf077",
   "metadata": {},
   "outputs": [
    {
     "data": {
      "text/plain": [
       "<AxesSubplot:xlabel='rest_type'>"
      ]
     },
     "execution_count": 50,
     "metadata": {},
     "output_type": "execute_result"
    },
    {
     "data": {
      "image/png": "[encoded data removed]",
      "text/plain": [
       "<Figure size 432x288 with 1 Axes>"
      ]
     },
     "metadata": {
      "needs_background": "light"
     },
     "output_type": "display_data"
    }
   ],
   "source": [
    "sns.barplot(cost_values,cost_values.index)"
   ]
  },
  {
   "cell_type": "code",
   "execution_count": 53,
   "id": "a4a16e64",
   "metadata": {},
   "outputs": [],
   "source": [
    "df2=df.groupby([\"loc\"])"
   ]
  },
  {
   "cell_type": "code",
   "execution_count": 54,
   "id": "13feaea1",
   "metadata": {},
   "outputs": [],
   "source": [
    "kothrud=df2.get_group(\"Kothrud\")"
   ]
  },
  {
   "cell_type": "code",
   "execution_count": 55,
   "id": "6d032ddf",
   "metadata": {},
   "outputs": [
    {
     "data": {
      "text/html": [
       "<div>\n",
       "<style scoped>\n",
       "    .dataframe tbody tr th:only-of-type {\n",
       "        vertical-align: middle;\n",
       "    }\n",
       "\n",
       "    .dataframe tbody tr th {\n",
       "        vertical-align: top;\n",
       "    }\n",
       "\n",
       "    .dataframe thead th {\n",
       "        text-align: right;\n",
       "    }\n",
       "</style>\n",
       "<table border=\"1\" class=\"dataframe\">\n",
       "  <thead>\n",
       "    <tr style=\"text-align: right;\">\n",
       "      <th></th>\n",
       "      <th>rest_name</th>\n",
       "      <th>rest_type</th>\n",
       "      <th>loc</th>\n",
       "      <th>dine_rating</th>\n",
       "      <th>dine_reviews</th>\n",
       "      <th>delivery_rating</th>\n",
       "      <th>delivery_reviews</th>\n",
       "      <th>cuisine</th>\n",
       "      <th>Unnamed: 9</th>\n",
       "      <th>Cost (RS)</th>\n",
       "      <th>cost</th>\n",
       "      <th>liked</th>\n",
       "    </tr>\n",
       "  </thead>\n",
       "  <tbody>\n",
       "    <tr>\n",
       "      <th>161</th>\n",
       "      <td>The 3 Musketeers Sky Gallary\\r\\r\\n            ...</td>\n",
       "      <td>Casual Dining,Bar</td>\n",
       "      <td>Kothrud</td>\n",
       "      <td>0.0</td>\n",
       "      <td>NaN</td>\n",
       "      <td>NaN</td>\n",
       "      <td>NaN</td>\n",
       "      <td>Beverages,Chinese,Continental,</td>\n",
       "      <td>NaN</td>\n",
       "      <td>1700</td>\n",
       "      <td>Rs. 1700</td>\n",
       "      <td>NaN</td>\n",
       "    </tr>\n",
       "    <tr>\n",
       "      <th>183</th>\n",
       "      <td>Bacharika- Rooftop Bar And Kitchen\\r\\r\\n      ...</td>\n",
       "      <td>Casual Dining,Bar</td>\n",
       "      <td>Kothrud</td>\n",
       "      <td>4.1</td>\n",
       "      <td>(238 Reviews)</td>\n",
       "      <td>NaN</td>\n",
       "      <td>NaN</td>\n",
       "      <td>European,Middle Eastern,Continental,North Indi...</td>\n",
       "      <td>NaN</td>\n",
       "      <td>1600</td>\n",
       "      <td>Rs. 1600</td>\n",
       "      <td>NaN</td>\n",
       "    </tr>\n",
       "    <tr>\n",
       "      <th>191</th>\n",
       "      <td>ALC Bar &amp; Bites\\r\\r\\n                         ...</td>\n",
       "      <td>Bar,Casual Dining</td>\n",
       "      <td>Kothrud</td>\n",
       "      <td>3.7</td>\n",
       "      <td>(38 Reviews)</td>\n",
       "      <td>NaN</td>\n",
       "      <td>NaN</td>\n",
       "      <td>North Indian,Chinese,</td>\n",
       "      <td>NaN</td>\n",
       "      <td>1600</td>\n",
       "      <td>Rs. 1600</td>\n",
       "      <td>NaN</td>\n",
       "    </tr>\n",
       "    <tr>\n",
       "      <th>214</th>\n",
       "      <td>Barometer\\r\\r\\n                               ...</td>\n",
       "      <td>Casual Dining</td>\n",
       "      <td>Kothrud</td>\n",
       "      <td>4.6</td>\n",
       "      <td>-1,591</td>\n",
       "      <td>4.3</td>\n",
       "      <td>-1,797</td>\n",
       "      <td>Finger Food,North Indian,Asian,Continental,</td>\n",
       "      <td>NaN</td>\n",
       "      <td>1500</td>\n",
       "      <td>Rs. 1500</td>\n",
       "      <td>Cocktails, Pizza, Pasta, Filtered Coffee, Nach...</td>\n",
       "    </tr>\n",
       "    <tr>\n",
       "      <th>236</th>\n",
       "      <td>German Bakery Wunderbar\\r\\r\\n                 ...</td>\n",
       "      <td>Casual Dining</td>\n",
       "      <td>Kothrud</td>\n",
       "      <td>3.0</td>\n",
       "      <td>(91 Reviews)</td>\n",
       "      <td>NaN</td>\n",
       "      <td>NaN</td>\n",
       "      <td>Beverages,Desserts,Cafe,Italian,Continental,Ge...</td>\n",
       "      <td>NaN</td>\n",
       "      <td>1000</td>\n",
       "      <td>Rs. 1000</td>\n",
       "      <td>NaN</td>\n",
       "    </tr>\n",
       "    <tr>\n",
       "      <th>...</th>\n",
       "      <td>...</td>\n",
       "      <td>...</td>\n",
       "      <td>...</td>\n",
       "      <td>...</td>\n",
       "      <td>...</td>\n",
       "      <td>...</td>\n",
       "      <td>...</td>\n",
       "      <td>...</td>\n",
       "      <td>...</td>\n",
       "      <td>...</td>\n",
       "      <td>...</td>\n",
       "      <td>...</td>\n",
       "    </tr>\n",
       "    <tr>\n",
       "      <th>5338</th>\n",
       "      <td>Sudit All Day Kitchen\\r\\n                     ...</td>\n",
       "      <td>Casual Dining</td>\n",
       "      <td>Kothrud</td>\n",
       "      <td>3.7</td>\n",
       "      <td>-59</td>\n",
       "      <td>3.9</td>\n",
       "      <td>-61</td>\n",
       "      <td>North Indian,Maharashtrian,Chinese,</td>\n",
       "      <td>NaN</td>\n",
       "      <td>1000</td>\n",
       "      <td>Rs. 1000</td>\n",
       "      <td>NaN</td>\n",
       "    </tr>\n",
       "    <tr>\n",
       "      <th>5339</th>\n",
       "      <td>Taco Alfresco\\r\\n                             ...</td>\n",
       "      <td>Café</td>\n",
       "      <td>Kothrud</td>\n",
       "      <td>4.0</td>\n",
       "      <td>-113</td>\n",
       "      <td>4.1</td>\n",
       "      <td>-570</td>\n",
       "      <td>Mexican,Cafe,</td>\n",
       "      <td>NaN</td>\n",
       "      <td>650</td>\n",
       "      <td>Rs. 650</td>\n",
       "      <td>Nachos, Burrito Bowl, Coffee, Hot Chocolate, K...</td>\n",
       "    </tr>\n",
       "    <tr>\n",
       "      <th>5343</th>\n",
       "      <td>Parth Veg &amp; Non Veg\\r\\n                       ...</td>\n",
       "      <td>Casual Dining</td>\n",
       "      <td>Kothrud</td>\n",
       "      <td>3.6</td>\n",
       "      <td>-32</td>\n",
       "      <td>4.2</td>\n",
       "      <td>-257</td>\n",
       "      <td>Maharashtrian,Fast Food,Seafood,North Indian,</td>\n",
       "      <td>NaN</td>\n",
       "      <td>500</td>\n",
       "      <td>Rs. 500</td>\n",
       "      <td>NaN</td>\n",
       "    </tr>\n",
       "    <tr>\n",
       "      <th>5374</th>\n",
       "      <td>Yahoo!!! Momos\\r\\n                            ...</td>\n",
       "      <td>Quick Bites</td>\n",
       "      <td>Kothrud</td>\n",
       "      <td>2.9</td>\n",
       "      <td>-356</td>\n",
       "      <td>3.8</td>\n",
       "      <td>-4,726</td>\n",
       "      <td>Ice Cream,Momos,</td>\n",
       "      <td>NaN</td>\n",
       "      <td>300</td>\n",
       "      <td>Rs. 300</td>\n",
       "      <td>Chicken 65, Iced Tea, Veg Momos, Tandoori Momo...</td>\n",
       "    </tr>\n",
       "    <tr>\n",
       "      <th>5400</th>\n",
       "      <td>Taj 24/7\\r\\n</td>\n",
       "      <td>NaN</td>\n",
       "      <td>Kothrud</td>\n",
       "      <td>0.0</td>\n",
       "      <td>NaN</td>\n",
       "      <td>NaN</td>\n",
       "      <td>NaN</td>\n",
       "      <td>Beverages,South Indian,Street Food,</td>\n",
       "      <td>NaN</td>\n",
       "      <td>200</td>\n",
       "      <td>Rs. 200</td>\n",
       "      <td>NaN</td>\n",
       "    </tr>\n",
       "  </tbody>\n",
       "</table>\n",
       "<p>264 rows × 12 columns</p>\n",
       "</div>"
      ],
      "text/plain": [
       "                                              rest_name          rest_type  \\\n",
       "161   The 3 Musketeers Sky Gallary\\r\\r\\n            ...  Casual Dining,Bar   \n",
       "183   Bacharika- Rooftop Bar And Kitchen\\r\\r\\n      ...  Casual Dining,Bar   \n",
       "191   ALC Bar & Bites\\r\\r\\n                         ...  Bar,Casual Dining   \n",
       "214   Barometer\\r\\r\\n                               ...      Casual Dining   \n",
       "236   German Bakery Wunderbar\\r\\r\\n                 ...      Casual Dining   \n",
       "...                                                 ...                ...   \n",
       "5338  Sudit All Day Kitchen\\r\\n                     ...      Casual Dining   \n",
       "5339  Taco Alfresco\\r\\n                             ...               Café   \n",
       "5343  Parth Veg & Non Veg\\r\\n                       ...      Casual Dining   \n",
       "5374  Yahoo!!! Momos\\r\\n                            ...        Quick Bites   \n",
       "5400   Taj 24/7\\r\\n                                                    NaN   \n",
       "\n",
       "          loc  dine_rating   dine_reviews  delivery_rating delivery_reviews  \\\n",
       "161   Kothrud          0.0            NaN              NaN              NaN   \n",
       "183   Kothrud          4.1  (238 Reviews)              NaN              NaN   \n",
       "191   Kothrud          3.7   (38 Reviews)              NaN              NaN   \n",
       "214   Kothrud          4.6         -1,591              4.3           -1,797   \n",
       "236   Kothrud          3.0   (91 Reviews)              NaN              NaN   \n",
       "...       ...          ...            ...              ...              ...   \n",
       "5338  Kothrud          3.7            -59              3.9              -61   \n",
       "5339  Kothrud          4.0           -113              4.1             -570   \n",
       "5343  Kothrud          3.6            -32              4.2             -257   \n",
       "5374  Kothrud          2.9           -356              3.8           -4,726   \n",
       "5400  Kothrud          0.0            NaN              NaN              NaN   \n",
       "\n",
       "                                                cuisine  Unnamed: 9  \\\n",
       "161                      Beverages,Chinese,Continental,         NaN   \n",
       "183   European,Middle Eastern,Continental,North Indi...         NaN   \n",
       "191                               North Indian,Chinese,         NaN   \n",
       "214         Finger Food,North Indian,Asian,Continental,         NaN   \n",
       "236   Beverages,Desserts,Cafe,Italian,Continental,Ge...         NaN   \n",
       "...                                                 ...         ...   \n",
       "5338                North Indian,Maharashtrian,Chinese,         NaN   \n",
       "5339                                      Mexican,Cafe,         NaN   \n",
       "5343      Maharashtrian,Fast Food,Seafood,North Indian,         NaN   \n",
       "5374                                   Ice Cream,Momos,         NaN   \n",
       "5400                Beverages,South Indian,Street Food,         NaN   \n",
       "\n",
       "      Cost (RS)      cost                                              liked  \n",
       "161        1700  Rs. 1700                                                NaN  \n",
       "183        1600  Rs. 1600                                                NaN  \n",
       "191        1600  Rs. 1600                                                NaN  \n",
       "214        1500  Rs. 1500  Cocktails, Pizza, Pasta, Filtered Coffee, Nach...  \n",
       "236        1000  Rs. 1000                                                NaN  \n",
       "...         ...       ...                                                ...  \n",
       "5338       1000  Rs. 1000                                                NaN  \n",
       "5339        650   Rs. 650  Nachos, Burrito Bowl, Coffee, Hot Chocolate, K...  \n",
       "5343        500   Rs. 500                                                NaN  \n",
       "5374        300   Rs. 300  Chicken 65, Iced Tea, Veg Momos, Tandoori Momo...  \n",
       "5400        200   Rs. 200                                                NaN  \n",
       "\n",
       "[264 rows x 12 columns]"
      ]
     },
     "execution_count": 55,
     "metadata": {},
     "output_type": "execute_result"
    }
   ],
   "source": [
    "kothrud"
   ]
  },
  {
   "cell_type": "code",
   "execution_count": 57,
   "id": "007e7690",
   "metadata": {},
   "outputs": [
    {
     "data": {
      "text/plain": [
       "(array([10., 15., 35., 14., 38., 23., 46., 30., 35., 18.]),\n",
       " array([ 0. ,  2.2,  4.4,  6.6,  8.8, 11. , 13.2, 15.4, 17.6, 19.8, 22. ]),\n",
       " <BarContainer object of 10 artists>)"
      ]
     },
     "execution_count": 57,
     "metadata": {},
     "output_type": "execute_result"
    },
    {
     "data": {
      "image/png": "[encoded data removed]",
      "text/plain": [
       "<Figure size 432x288 with 1 Axes>"
      ]
     },
     "metadata": {
      "needs_background": "light"
     },
     "output_type": "display_data"
    }
   ],
   "source": [
    "plt.hist(kothrud['cost'])"
   ]
  },
  {
   "cell_type": "code",
   "execution_count": 58,
   "id": "78c92463",
   "metadata": {},
   "outputs": [],
   "source": [
    "ratings_bw=df[(df['dine_rating']>4) & (df['dine_rating']<4.5)]"
   ]
  },
  {
   "cell_type": "code",
   "execution_count": 59,
   "id": "d0b864e7",
   "metadata": {},
   "outputs": [
    {
     "data": {
      "text/html": [
       "<div>\n",
       "<style scoped>\n",
       "    .dataframe tbody tr th:only-of-type {\n",
       "        vertical-align: middle;\n",
       "    }\n",
       "\n",
       "    .dataframe tbody tr th {\n",
       "        vertical-align: top;\n",
       "    }\n",
       "\n",
       "    .dataframe thead th {\n",
       "        text-align: right;\n",
       "    }\n",
       "</style>\n",
       "<table border=\"1\" class=\"dataframe\">\n",
       "  <thead>\n",
       "    <tr style=\"text-align: right;\">\n",
       "      <th></th>\n",
       "      <th>rest_name</th>\n",
       "      <th>rest_type</th>\n",
       "      <th>loc</th>\n",
       "      <th>dine_rating</th>\n",
       "      <th>dine_reviews</th>\n",
       "      <th>delivery_rating</th>\n",
       "      <th>delivery_reviews</th>\n",
       "      <th>cuisine</th>\n",
       "      <th>Unnamed: 9</th>\n",
       "      <th>Cost (RS)</th>\n",
       "      <th>cost</th>\n",
       "      <th>liked</th>\n",
       "    </tr>\n",
       "  </thead>\n",
       "  <tbody>\n",
       "    <tr>\n",
       "      <th>0</th>\n",
       "      <td>Mix@36 - The Westin\\r\\r\\n                     ...</td>\n",
       "      <td>Lounge</td>\n",
       "      <td>The Westin, Mundhwa</td>\n",
       "      <td>4.2</td>\n",
       "      <td>(707 Reviews)</td>\n",
       "      <td>NaN</td>\n",
       "      <td>NaN</td>\n",
       "      <td>North Indian,Continental,Asian,Finger Food,</td>\n",
       "      <td>NaN</td>\n",
       "      <td>4300</td>\n",
       "      <td>Rs. 4300</td>\n",
       "      <td>Cocktails, Chaat, Beer</td>\n",
       "    </tr>\n",
       "    <tr>\n",
       "      <th>1</th>\n",
       "      <td>Kangan - The Westin\\r\\r\\n                     ...</td>\n",
       "      <td>Fine Dining</td>\n",
       "      <td>The Westin, Mundhwa</td>\n",
       "      <td>4.1</td>\n",
       "      <td>(344 Reviews)</td>\n",
       "      <td>NaN</td>\n",
       "      <td>NaN</td>\n",
       "      <td>North Indian,Mughlai,</td>\n",
       "      <td>NaN</td>\n",
       "      <td>3500</td>\n",
       "      <td>Rs. 3500</td>\n",
       "      <td>Biryani, Veg Platter, Dal Makhani, Butter Chic...</td>\n",
       "    </tr>\n",
       "    <tr>\n",
       "      <th>6</th>\n",
       "      <td>Zeera - Conrad Pune\\r\\r\\n                     ...</td>\n",
       "      <td>Fine Dining</td>\n",
       "      <td>Conrad Pune, Bund Garden Road</td>\n",
       "      <td>4.1</td>\n",
       "      <td>(159 Reviews)</td>\n",
       "      <td>NaN</td>\n",
       "      <td>NaN</td>\n",
       "      <td>North Indian,</td>\n",
       "      <td>NaN</td>\n",
       "      <td>3000</td>\n",
       "      <td>Rs. 3000</td>\n",
       "      <td>Paan Ice Cream, Biryani, Coffee, Pindi Chole, ...</td>\n",
       "    </tr>\n",
       "    <tr>\n",
       "      <th>7</th>\n",
       "      <td>Koji - Conrad Pune\\r\\r\\n                      ...</td>\n",
       "      <td>Fine Dining</td>\n",
       "      <td>Conrad Pune, Bund Garden Road</td>\n",
       "      <td>4.1</td>\n",
       "      <td>(199 Reviews)</td>\n",
       "      <td>NaN</td>\n",
       "      <td>NaN</td>\n",
       "      <td>Thai,Japanese,Chinese,</td>\n",
       "      <td>NaN</td>\n",
       "      <td>3000</td>\n",
       "      <td>Rs. 3000</td>\n",
       "      <td>Sushi, Cocktails, Salmon, Chicken Clay Pot, Ku...</td>\n",
       "    </tr>\n",
       "    <tr>\n",
       "      <th>12</th>\n",
       "      <td>Level 12 - DoubleTree By Hilton Hotel\\r\\r\\n   ...</td>\n",
       "      <td>Lounge,Fine Dining</td>\n",
       "      <td>DoubleTree By Hilton Hotel</td>\n",
       "      <td>4.2</td>\n",
       "      <td>(336 Reviews)</td>\n",
       "      <td>NaN</td>\n",
       "      <td>NaN</td>\n",
       "      <td>Bar Food,Mughlai,North Indian,</td>\n",
       "      <td>NaN</td>\n",
       "      <td>3000</td>\n",
       "      <td>Rs. 3000</td>\n",
       "      <td>Biryani, Butter Chicken, Kulfi, Amritsari Kulc...</td>\n",
       "    </tr>\n",
       "    <tr>\n",
       "      <th>...</th>\n",
       "      <td>...</td>\n",
       "      <td>...</td>\n",
       "      <td>...</td>\n",
       "      <td>...</td>\n",
       "      <td>...</td>\n",
       "      <td>...</td>\n",
       "      <td>...</td>\n",
       "      <td>...</td>\n",
       "      <td>...</td>\n",
       "      <td>...</td>\n",
       "      <td>...</td>\n",
       "      <td>...</td>\n",
       "    </tr>\n",
       "    <tr>\n",
       "      <th>5387</th>\n",
       "      <td>Masemari - The Fishing\\r\\n                    ...</td>\n",
       "      <td>Casual Dining</td>\n",
       "      <td>Sadashiv Peth</td>\n",
       "      <td>4.1</td>\n",
       "      <td>-421</td>\n",
       "      <td>3.8</td>\n",
       "      <td>-138</td>\n",
       "      <td>Malwani,Konkan,Goan,Seafood,</td>\n",
       "      <td>NaN</td>\n",
       "      <td>1200</td>\n",
       "      <td>Rs. 1200</td>\n",
       "      <td>Sea Food, Fish, Sol Kadhi, Bombil Fry, Butter ...</td>\n",
       "    </tr>\n",
       "    <tr>\n",
       "      <th>5389</th>\n",
       "      <td>Regent - Modern Kitchen &amp; Bar\\r\\n             ...</td>\n",
       "      <td>Casual Dining</td>\n",
       "      <td>JM Road</td>\n",
       "      <td>4.2</td>\n",
       "      <td>(344 Reviews)</td>\n",
       "      <td>NaN</td>\n",
       "      <td>NaN</td>\n",
       "      <td>Seafood,Asian,North Indian,Modern Indian,Fast ...</td>\n",
       "      <td>NaN</td>\n",
       "      <td>1100</td>\n",
       "      <td>Rs. 1100</td>\n",
       "      <td>Chicken Biryani, Sea Food, Murgh Dum Kebab, Gu...</td>\n",
       "    </tr>\n",
       "    <tr>\n",
       "      <th>5390</th>\n",
       "      <td>The Curious Kitchen &amp; Bar\\r\\n                 ...</td>\n",
       "      <td>Casual Dining,Bar</td>\n",
       "      <td>Baner</td>\n",
       "      <td>4.2</td>\n",
       "      <td>-248</td>\n",
       "      <td>3.6</td>\n",
       "      <td>-842</td>\n",
       "      <td>Italian,Continental,Chinese,North Indian,</td>\n",
       "      <td>NaN</td>\n",
       "      <td>900</td>\n",
       "      <td>Rs. 900</td>\n",
       "      <td>Mocktails, Brownie, Caramel Custard, Paan Moji...</td>\n",
       "    </tr>\n",
       "    <tr>\n",
       "      <th>5391</th>\n",
       "      <td>Sorriso- Marriott Suites Pune\\r\\n             ...</td>\n",
       "      <td>Casual Dining</td>\n",
       "      <td>Marriott Suites Pune</td>\n",
       "      <td>4.2</td>\n",
       "      <td>(241 Reviews)</td>\n",
       "      <td>NaN</td>\n",
       "      <td>NaN</td>\n",
       "      <td>Italian,</td>\n",
       "      <td>NaN</td>\n",
       "      <td>2000</td>\n",
       "      <td>Rs. 2000</td>\n",
       "      <td>Pasta, Tiramisu, Wine, Salad, Pork Burger, Thi...</td>\n",
       "    </tr>\n",
       "    <tr>\n",
       "      <th>5414</th>\n",
       "      <td>Ground Up\\r\\n</td>\n",
       "      <td>Casual Dining</td>\n",
       "      <td>Viman Nagar</td>\n",
       "      <td>4.1</td>\n",
       "      <td>(83 Reviews)</td>\n",
       "      <td>NaN</td>\n",
       "      <td>NaN</td>\n",
       "      <td>Mexican,Continental,Asian,</td>\n",
       "      <td>NaN</td>\n",
       "      <td>2000</td>\n",
       "      <td>Rs. 2000</td>\n",
       "      <td>Sandwich, Chocolate Tart, Banh Mi, Noodle, Tom...</td>\n",
       "    </tr>\n",
       "  </tbody>\n",
       "</table>\n",
       "<p>852 rows × 12 columns</p>\n",
       "</div>"
      ],
      "text/plain": [
       "                                              rest_name           rest_type  \\\n",
       "0     Mix@36 - The Westin\\r\\r\\n                     ...              Lounge   \n",
       "1     Kangan - The Westin\\r\\r\\n                     ...         Fine Dining   \n",
       "6     Zeera - Conrad Pune\\r\\r\\n                     ...         Fine Dining   \n",
       "7     Koji - Conrad Pune\\r\\r\\n                      ...         Fine Dining   \n",
       "12    Level 12 - DoubleTree By Hilton Hotel\\r\\r\\n   ...  Lounge,Fine Dining   \n",
       "...                                                 ...                 ...   \n",
       "5387  Masemari - The Fishing\\r\\n                    ...       Casual Dining   \n",
       "5389  Regent - Modern Kitchen & Bar\\r\\n             ...       Casual Dining   \n",
       "5390  The Curious Kitchen & Bar\\r\\n                 ...   Casual Dining,Bar   \n",
       "5391  Sorriso- Marriott Suites Pune\\r\\n             ...       Casual Dining   \n",
       "5414  Ground Up\\r\\n                                           Casual Dining   \n",
       "\n",
       "                                loc  dine_rating   dine_reviews  \\\n",
       "0               The Westin, Mundhwa          4.2  (707 Reviews)   \n",
       "1               The Westin, Mundhwa          4.1  (344 Reviews)   \n",
       "6     Conrad Pune, Bund Garden Road          4.1  (159 Reviews)   \n",
       "7     Conrad Pune, Bund Garden Road          4.1  (199 Reviews)   \n",
       "12       DoubleTree By Hilton Hotel          4.2  (336 Reviews)   \n",
       "...                             ...          ...            ...   \n",
       "5387                  Sadashiv Peth          4.1           -421   \n",
       "5389                        JM Road          4.2  (344 Reviews)   \n",
       "5390                          Baner          4.2           -248   \n",
       "5391           Marriott Suites Pune          4.2  (241 Reviews)   \n",
       "5414                    Viman Nagar          4.1   (83 Reviews)   \n",
       "\n",
       "      delivery_rating delivery_reviews  \\\n",
       "0                 NaN              NaN   \n",
       "1                 NaN              NaN   \n",
       "6                 NaN              NaN   \n",
       "7                 NaN              NaN   \n",
       "12                NaN              NaN   \n",
       "...               ...              ...   \n",
       "5387              3.8             -138   \n",
       "5389              NaN              NaN   \n",
       "5390              3.6             -842   \n",
       "5391              NaN              NaN   \n",
       "5414              NaN              NaN   \n",
       "\n",
       "                                                cuisine  Unnamed: 9  \\\n",
       "0           North Indian,Continental,Asian,Finger Food,         NaN   \n",
       "1                                 North Indian,Mughlai,         NaN   \n",
       "6                                         North Indian,         NaN   \n",
       "7                                Thai,Japanese,Chinese,         NaN   \n",
       "12                       Bar Food,Mughlai,North Indian,         NaN   \n",
       "...                                                 ...         ...   \n",
       "5387                       Malwani,Konkan,Goan,Seafood,         NaN   \n",
       "5389  Seafood,Asian,North Indian,Modern Indian,Fast ...         NaN   \n",
       "5390          Italian,Continental,Chinese,North Indian,         NaN   \n",
       "5391                                           Italian,         NaN   \n",
       "5414                         Mexican,Continental,Asian,         NaN   \n",
       "\n",
       "      Cost (RS)      cost                                              liked  \n",
       "0          4300  Rs. 4300                             Cocktails, Chaat, Beer  \n",
       "1          3500  Rs. 3500  Biryani, Veg Platter, Dal Makhani, Butter Chic...  \n",
       "6          3000  Rs. 3000  Paan Ice Cream, Biryani, Coffee, Pindi Chole, ...  \n",
       "7          3000  Rs. 3000  Sushi, Cocktails, Salmon, Chicken Clay Pot, Ku...  \n",
       "12         3000  Rs. 3000  Biryani, Butter Chicken, Kulfi, Amritsari Kulc...  \n",
       "...         ...       ...                                                ...  \n",
       "5387       1200  Rs. 1200  Sea Food, Fish, Sol Kadhi, Bombil Fry, Butter ...  \n",
       "5389       1100  Rs. 1100  Chicken Biryani, Sea Food, Murgh Dum Kebab, Gu...  \n",
       "5390        900   Rs. 900  Mocktails, Brownie, Caramel Custard, Paan Moji...  \n",
       "5391       2000  Rs. 2000  Pasta, Tiramisu, Wine, Salad, Pork Burger, Thi...  \n",
       "5414       2000  Rs. 2000  Sandwich, Chocolate Tart, Banh Mi, Noodle, Tom...  \n",
       "\n",
       "[852 rows x 12 columns]"
      ]
     },
     "execution_count": 59,
     "metadata": {},
     "output_type": "execute_result"
    }
   ],
   "source": [
    "ratings_bw"
   ]
  },
  {
   "cell_type": "code",
   "execution_count": null,
   "id": "9513ba33",
   "metadata": {},
   "outputs": [],
   "source": []
  }
 ],
 "metadata": {
  "kernelspec": {
   "display_name": "Python 3 (ipykernel)",
   "language": "python",
   "name": "python3"
  },
  "language_info": {
   "codemirror_mode": {
    "name": "ipython",
    "version": 3
   },
   "file_extension": ".py",
   "mimetype": "text/x-python",
   "name": "python",
   "nbconvert_exporter": "python",
   "pygments_lexer": "ipython3",
   "version": "3.9.7"
  }
 },
 "nbformat": 4,
 "nbformat_minor": 5
}
